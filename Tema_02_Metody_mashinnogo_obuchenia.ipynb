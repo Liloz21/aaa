{
 "cells": [
  {
   "cell_type": "code",
   "execution_count": 1,
   "metadata": {},
   "outputs": [],
   "source": [
    "# Импортирование необходимых библиотек, по ходу будут добавлятся другие\n",
    "import pandas as pd\n",
    "import numpy as np"
   ]
  },
  {
   "cell_type": "code",
   "execution_count": 2,
   "metadata": {},
   "outputs": [],
   "source": [
    "# Импорт данных\n",
    "df=pd.read_csv(\"data/dataset_clusterd.csv\", sep=\"\\t\", encoding=\"utf-16\")"
   ]
  },
  {
   "cell_type": "code",
   "execution_count": 3,
   "metadata": {},
   "outputs": [
    {
     "data": {
      "text/html": [
       "<div>\n",
       "<style scoped>\n",
       "    .dataframe tbody tr th:only-of-type {\n",
       "        vertical-align: middle;\n",
       "    }\n",
       "\n",
       "    .dataframe tbody tr th {\n",
       "        vertical-align: top;\n",
       "    }\n",
       "\n",
       "    .dataframe thead th {\n",
       "        text-align: right;\n",
       "    }\n",
       "</style>\n",
       "<table border=\"1\" class=\"dataframe\">\n",
       "  <thead>\n",
       "    <tr style=\"text-align: right;\">\n",
       "      <th></th>\n",
       "      <th>название_компетенции_wsss</th>\n",
       "      <th>описание_компетенции_wsss</th>\n",
       "      <th>название_раздела_wsss</th>\n",
       "      <th>значимость_раздела_wsss</th>\n",
       "      <th>признаки_раздела_wsss</th>\n",
       "      <th>cluster</th>\n",
       "      <th>nameed_clusters</th>\n",
       "    </tr>\n",
       "  </thead>\n",
       "  <tbody>\n",
       "    <tr>\n",
       "      <th>0</th>\n",
       "      <td>Ювелирное дело</td>\n",
       "      <td>профессия ювелира прежде связана ручным трудом...</td>\n",
       "      <td>обработка поверхности</td>\n",
       "      <td>15.0</td>\n",
       "      <td>специалист должен знать понимать специализиров...</td>\n",
       "      <td>0</td>\n",
       "      <td>Информационные и коммуникационные технологии</td>\n",
       "    </tr>\n",
       "    <tr>\n",
       "      <th>1</th>\n",
       "      <td>Ювелирное дело</td>\n",
       "      <td>профессия ювелира прежде связана ручным трудом...</td>\n",
       "      <td>изготовление сложных элементов ювелирных издел...</td>\n",
       "      <td>20.0</td>\n",
       "      <td>специалист должен знать понимать способы испол...</td>\n",
       "      <td>0</td>\n",
       "      <td>Информационные и коммуникационные технологии</td>\n",
       "    </tr>\n",
       "    <tr>\n",
       "      <th>2</th>\n",
       "      <td>Ювелирное дело</td>\n",
       "      <td>профессия ювелира прежде связана ручным трудом...</td>\n",
       "      <td>изготовление простых элементов ювелирных изделий</td>\n",
       "      <td>20.0</td>\n",
       "      <td>специалист должен знать понимать способы испол...</td>\n",
       "      <td>0</td>\n",
       "      <td>Информационные и коммуникационные технологии</td>\n",
       "    </tr>\n",
       "    <tr>\n",
       "      <th>3</th>\n",
       "      <td>Ювелирное дело</td>\n",
       "      <td>профессия ювелира прежде связана ручным трудом...</td>\n",
       "      <td>подготовка драгоценных сплавов изготовления эл...</td>\n",
       "      <td>10.0</td>\n",
       "      <td>специалист должен знать понимать свойства спос...</td>\n",
       "      <td>0</td>\n",
       "      <td>Информационные и коммуникационные технологии</td>\n",
       "    </tr>\n",
       "    <tr>\n",
       "      <th>4</th>\n",
       "      <td>Ювелирное дело</td>\n",
       "      <td>профессия ювелира прежде связана ручным трудом...</td>\n",
       "      <td>изготовление сплавов драгоценных металлов</td>\n",
       "      <td>5.0</td>\n",
       "      <td>специалист должен знать понимать состав сплаво...</td>\n",
       "      <td>0</td>\n",
       "      <td>Информационные и коммуникационные технологии</td>\n",
       "    </tr>\n",
       "  </tbody>\n",
       "</table>\n",
       "</div>"
      ],
      "text/plain": [
       "  название_компетенции_wsss  \\\n",
       "0            Ювелирное дело   \n",
       "1            Ювелирное дело   \n",
       "2            Ювелирное дело   \n",
       "3            Ювелирное дело   \n",
       "4            Ювелирное дело   \n",
       "\n",
       "                           описание_компетенции_wsss  \\\n",
       "0  профессия ювелира прежде связана ручным трудом...   \n",
       "1  профессия ювелира прежде связана ручным трудом...   \n",
       "2  профессия ювелира прежде связана ручным трудом...   \n",
       "3  профессия ювелира прежде связана ручным трудом...   \n",
       "4  профессия ювелира прежде связана ручным трудом...   \n",
       "\n",
       "                               название_раздела_wsss  значимость_раздела_wsss  \\\n",
       "0                              обработка поверхности                     15.0   \n",
       "1  изготовление сложных элементов ювелирных издел...                     20.0   \n",
       "2   изготовление простых элементов ювелирных изделий                     20.0   \n",
       "3  подготовка драгоценных сплавов изготовления эл...                     10.0   \n",
       "4          изготовление сплавов драгоценных металлов                      5.0   \n",
       "\n",
       "                               признаки_раздела_wsss  cluster  \\\n",
       "0  специалист должен знать понимать специализиров...        0   \n",
       "1  специалист должен знать понимать способы испол...        0   \n",
       "2  специалист должен знать понимать способы испол...        0   \n",
       "3  специалист должен знать понимать свойства спос...        0   \n",
       "4  специалист должен знать понимать состав сплаво...        0   \n",
       "\n",
       "                                nameed_clusters  \n",
       "0  Информационные и коммуникационные технологии  \n",
       "1  Информационные и коммуникационные технологии  \n",
       "2  Информационные и коммуникационные технологии  \n",
       "3  Информационные и коммуникационные технологии  \n",
       "4  Информационные и коммуникационные технологии  "
      ]
     },
     "execution_count": 3,
     "metadata": {},
     "output_type": "execute_result"
    }
   ],
   "source": [
    "df['значимость_раздела_wsss'] = pd.to_numeric(df['значимость_раздела_wsss'],errors='coerce')\n",
    "df[\"значимость_раздела_wsss\"]=df[\"значимость_раздела_wsss\"].fillna(float(int(df[\"значимость_раздела_wsss\"].mean())))\n",
    "df.drop(df.iloc[:,8:],inplace=True,axis=1)\n",
    "df.head()"
   ]
  },
  {
   "cell_type": "code",
   "execution_count": 4,
   "metadata": {},
   "outputs": [],
   "source": [
    "# Рандомизация данных\n",
    "df=df.sample(n=len(df))"
   ]
  },
  {
   "cell_type": "code",
   "execution_count": 5,
   "metadata": {},
   "outputs": [],
   "source": [
    "# Трансформаторы для получения данных\n",
    "from sklearn.base import BaseEstimator, TransformerMixin\n",
    "# Конвеер для объединения шагов выполнения классификации\n",
    "from sklearn.pipeline import Pipeline\n",
    "# Функция стандартизации числовых значений\n",
    "from sklearn.preprocessing import StandardScaler\n",
    "# Функция преобразования текстовых данных под модель\n",
    "from sklearn.feature_extraction.text import TfidfVectorizer\n",
    "\n",
    "# Класс необходимый для получения и работы с текстовыми признаками\n",
    "class TextSelector(BaseEstimator, TransformerMixin):\n",
    "    def __init__(self, key):\n",
    "        self.key = key\n",
    "    def fit(self, X, y=None):\n",
    "        return self\n",
    "    def transform(self, X):\n",
    "        return X[self.key]\n",
    "    \n",
    "# Класс необходимый для получения работы с числовыми признаками\n",
    "class NumericalSelector(BaseEstimator, TransformerMixin):\n",
    "    def __init__(self, key):\n",
    "        self.key = key\n",
    "    def fit(self, X, y=None):\n",
    "        return self\n",
    "    def transform(self, X):\n",
    "        return X[[self.key]]"
   ]
  },
  {
   "cell_type": "code",
   "execution_count": 6,
   "metadata": {},
   "outputs": [],
   "source": [
    "# Стеммер, работающий с русским языком\n",
    "from nltk.stem.snowball import SnowballStemmer\n",
    "stemmer = SnowballStemmer(\"russian\") \n",
    "\n",
    "# Функция стеммизации данных для образования однокоренных слов\n",
    "def stemming_tokenizer(text):\n",
    "    text = re.split('\\W+', text)\n",
    "    text = [stemmer.stem(word) for word in text]\n",
    "    return text"
   ]
  },
  {
   "cell_type": "code",
   "execution_count": 7,
   "metadata": {},
   "outputs": [],
   "source": [
    "# Получение стоп-слов из библиотеки nltk(и, за, а, на, как и.т.) \n",
    "from nltk.corpus import stopwords\n",
    "import re\n",
    "stop_words = stopwords.words(\"russian\")"
   ]
  },
  {
   "cell_type": "code",
   "execution_count": 8,
   "metadata": {},
   "outputs": [
    {
     "data": {
      "text/html": [
       "<div>\n",
       "<style scoped>\n",
       "    .dataframe tbody tr th:only-of-type {\n",
       "        vertical-align: middle;\n",
       "    }\n",
       "\n",
       "    .dataframe tbody tr th {\n",
       "        vertical-align: top;\n",
       "    }\n",
       "\n",
       "    .dataframe thead th {\n",
       "        text-align: right;\n",
       "    }\n",
       "</style>\n",
       "<table border=\"1\" class=\"dataframe\">\n",
       "  <thead>\n",
       "    <tr style=\"text-align: right;\">\n",
       "      <th></th>\n",
       "      <th>название_компетенции_wsss</th>\n",
       "      <th>описание_компетенции_wsss</th>\n",
       "      <th>название_раздела_wsss</th>\n",
       "      <th>значимость_раздела_wsss</th>\n",
       "      <th>признаки_раздела_wsss</th>\n",
       "      <th>cluster</th>\n",
       "      <th>nameed_clusters</th>\n",
       "    </tr>\n",
       "  </thead>\n",
       "  <tbody>\n",
       "    <tr>\n",
       "      <th>482</th>\n",
       "      <td>Промышленная автоматика</td>\n",
       "      <td>промышленная автоматика включает элементы элек...</td>\n",
       "      <td>поиск неисправностей</td>\n",
       "      <td>10.0</td>\n",
       "      <td>специалист должен знать понимать требования бе...</td>\n",
       "      <td>0</td>\n",
       "      <td>Информационные и коммуникационные технологии</td>\n",
       "    </tr>\n",
       "    <tr>\n",
       "      <th>1193</th>\n",
       "      <td>Графический дизайн</td>\n",
       "      <td>графическим дизайном понимается множество комп...</td>\n",
       "      <td>решение проблем</td>\n",
       "      <td>12.0</td>\n",
       "      <td>специалист должен знать понимать общие проблем...</td>\n",
       "      <td>0</td>\n",
       "      <td>Информационные и коммуникационные технологии</td>\n",
       "    </tr>\n",
       "    <tr>\n",
       "      <th>35</th>\n",
       "      <td>Управление фронтальным погрузчиком</td>\n",
       "      <td>фронтальный погрузчик назвать универсальной ма...</td>\n",
       "      <td>ремонт агрегатов систем фронтального погрузчика</td>\n",
       "      <td>28.0</td>\n",
       "      <td>участник должен знать понимать основные сведен...</td>\n",
       "      <td>0</td>\n",
       "      <td>Информационные и коммуникационные технологии</td>\n",
       "    </tr>\n",
       "    <tr>\n",
       "      <th>557</th>\n",
       "      <td>Электроника</td>\n",
       "      <td>индустрия электроники является разнообразной о...</td>\n",
       "      <td>сборка</td>\n",
       "      <td>20.0</td>\n",
       "      <td>специалист должен знать понимать соответствующ...</td>\n",
       "      <td>0</td>\n",
       "      <td>Информационные и коммуникационные технологии</td>\n",
       "    </tr>\n",
       "    <tr>\n",
       "      <th>322</th>\n",
       "      <td>Кузовной ремонт</td>\n",
       "      <td>мастер кузовного ремонта ремонтирует структурн...</td>\n",
       "      <td>замена деталей панелей требующих сварку</td>\n",
       "      <td>34.0</td>\n",
       "      <td>специалист должен знать понимать важность след...</td>\n",
       "      <td>0</td>\n",
       "      <td>Информационные и коммуникационные технологии</td>\n",
       "    </tr>\n",
       "  </tbody>\n",
       "</table>\n",
       "</div>"
      ],
      "text/plain": [
       "               название_компетенции_wsss  \\\n",
       "482              Промышленная автоматика   \n",
       "1193                  Графический дизайн   \n",
       "35    Управление фронтальным погрузчиком   \n",
       "557                         Электроника    \n",
       "322                      Кузовной ремонт   \n",
       "\n",
       "                              описание_компетенции_wsss  \\\n",
       "482   промышленная автоматика включает элементы элек...   \n",
       "1193  графическим дизайном понимается множество комп...   \n",
       "35    фронтальный погрузчик назвать универсальной ма...   \n",
       "557   индустрия электроники является разнообразной о...   \n",
       "322   мастер кузовного ремонта ремонтирует структурн...   \n",
       "\n",
       "                                название_раздела_wsss  \\\n",
       "482                              поиск неисправностей   \n",
       "1193                                  решение проблем   \n",
       "35    ремонт агрегатов систем фронтального погрузчика   \n",
       "557                                            сборка   \n",
       "322           замена деталей панелей требующих сварку   \n",
       "\n",
       "      значимость_раздела_wsss  \\\n",
       "482                      10.0   \n",
       "1193                     12.0   \n",
       "35                       28.0   \n",
       "557                      20.0   \n",
       "322                      34.0   \n",
       "\n",
       "                                  признаки_раздела_wsss  cluster  \\\n",
       "482   специалист должен знать понимать требования бе...        0   \n",
       "1193  специалист должен знать понимать общие проблем...        0   \n",
       "35    участник должен знать понимать основные сведен...        0   \n",
       "557   специалист должен знать понимать соответствующ...        0   \n",
       "322   специалист должен знать понимать важность след...        0   \n",
       "\n",
       "                                   nameed_clusters  \n",
       "482   Информационные и коммуникационные технологии  \n",
       "1193  Информационные и коммуникационные технологии  \n",
       "35    Информационные и коммуникационные технологии  \n",
       "557   Информационные и коммуникационные технологии  \n",
       "322   Информационные и коммуникационные технологии  "
      ]
     },
     "execution_count": 8,
     "metadata": {},
     "output_type": "execute_result"
    }
   ],
   "source": [
    "df.head()"
   ]
  },
  {
   "cell_type": "code",
   "execution_count": null,
   "metadata": {},
   "outputs": [],
   "source": []
  },
  {
   "cell_type": "code",
   "execution_count": 10,
   "metadata": {},
   "outputs": [
    {
     "name": "stderr",
     "output_type": "stream",
     "text": [
      "E:\\anaconda\\lib\\site-packages\\sklearn\\feature_extraction\\text.py:383: UserWarning: Your stop_words may be inconsistent with your preprocessing. Tokenizing the stop words generated tokens ['бол', 'больш', 'будт', 'быт', 'вед', 'впроч', 'всег', 'всегд', 'даж', 'друг', 'е', 'ег', 'ем', 'есл', 'ест', 'ещ', 'зач', 'зде', 'ил', 'иногд', 'когд', 'конечн', 'куд', 'лучш', 'межд', 'мен', 'мног', 'мо', 'можн', 'нег', 'нельз', 'нибуд', 'никогд', 'нич', 'опя', 'посл', 'пот', 'почт', 'разв', 'сво', 'себ', 'совс', 'теб', 'тепер', 'тог', 'тогд', 'тож', 'тольк', 'хорош', 'хот', 'чег', 'чут', 'эт'] not in stop_words.\n",
      "  warnings.warn('Your stop_words may be inconsistent with '\n"
     ]
    },
    {
     "data": {
      "text/plain": [
       "matrix([[0.        , 0.        , 0.        , ..., 0.        , 0.        ,\n",
       "         0.        ],\n",
       "        [0.        , 0.        , 0.        , ..., 0.        , 0.        ,\n",
       "         0.        ],\n",
       "        [0.        , 0.        , 0.        , ..., 0.        , 0.        ,\n",
       "         0.        ],\n",
       "        ...,\n",
       "        [0.        , 0.        , 0.        , ..., 0.        , 0.        ,\n",
       "         0.        ],\n",
       "        [0.        , 0.09157595, 0.        , ..., 0.        , 0.        ,\n",
       "         0.        ],\n",
       "        [0.        , 0.        , 0.        , ..., 0.        , 0.        ,\n",
       "         0.        ]])"
      ]
     },
     "execution_count": 10,
     "metadata": {},
     "output_type": "execute_result"
    }
   ],
   "source": [
    "# Подгонка признаков под конвейер для корректной работы с моделью\n",
    "dictionary = Pipeline([\n",
    "    ('selector', TextSelector(key=\"описание_компетенции_wsss\")),\n",
    "    ('tfidf', TfidfVectorizer(stop_words = stop_words,tokenizer=stemming_tokenizer))\n",
    "    ])\n",
    "\n",
    "dictionary.fit_transform(df).todense()"
   ]
  },
  {
   "cell_type": "code",
   "execution_count": 11,
   "metadata": {},
   "outputs": [
    {
     "data": {
      "text/plain": [
       "matrix([[0., 0., 0., ..., 0., 0., 0.],\n",
       "        [0., 0., 0., ..., 0., 0., 0.],\n",
       "        [0., 0., 0., ..., 0., 0., 0.],\n",
       "        ...,\n",
       "        [0., 0., 0., ..., 0., 0., 0.],\n",
       "        [0., 0., 0., ..., 0., 0., 0.],\n",
       "        [0., 0., 0., ..., 0., 0., 0.]])"
      ]
     },
     "execution_count": 11,
     "metadata": {},
     "output_type": "execute_result"
    }
   ],
   "source": [
    "# Подгонка признаков под конвейер для корректной работы с моделью\n",
    "title = Pipeline([\n",
    "    ('selector', TextSelector(key=\"название_раздела_wsss\")),\n",
    "    ('tfidf', TfidfVectorizer(stop_words = stop_words,tokenizer=stemming_tokenizer))\n",
    "    ])\n",
    "\n",
    "title.fit_transform(df).todense()"
   ]
  },
  {
   "cell_type": "code",
   "execution_count": 12,
   "metadata": {},
   "outputs": [
    {
     "data": {
      "text/plain": [
       "array([[-0.5112745 ],\n",
       "       [-0.32734803],\n",
       "       [ 1.1440637 ],\n",
       "       ...,\n",
       "       [ 0.89576297],\n",
       "       [ 0.868174  ],\n",
       "       [ 0.40835783]])"
      ]
     },
     "execution_count": 12,
     "metadata": {},
     "output_type": "execute_result"
    }
   ],
   "source": [
    "# Подгонка признаков под конвейер для корректной работы с моделью\n",
    "ves_title = Pipeline([\n",
    "    ('selector', NumericalSelector(key=\"значимость_раздела_wsss\")),\n",
    "    ('tfidf', StandardScaler())\n",
    "    ])\n",
    "\n",
    "ves_title.fit_transform(df)"
   ]
  },
  {
   "cell_type": "code",
   "execution_count": 13,
   "metadata": {},
   "outputs": [
    {
     "name": "stderr",
     "output_type": "stream",
     "text": [
      "E:\\anaconda\\lib\\site-packages\\sklearn\\feature_extraction\\text.py:383: UserWarning: Your stop_words may be inconsistent with your preprocessing. Tokenizing the stop words generated tokens ['бол', 'больш', 'будт', 'быт', 'вед', 'впроч', 'всег', 'всегд', 'даж', 'друг', 'е', 'ег', 'ем', 'есл', 'ест', 'ещ', 'зач', 'зде', 'ил', 'иногд', 'когд', 'конечн', 'куд', 'лучш', 'межд', 'мен', 'мног', 'мо', 'можн', 'нег', 'нельз', 'нибуд', 'никогд', 'нич', 'опя', 'посл', 'пот', 'почт', 'разв', 'сво', 'себ', 'совс', 'теб', 'тепер', 'тог', 'тогд', 'тож', 'тольк', 'хорош', 'хот', 'чег', 'чут', 'эт'] not in stop_words.\n",
      "  warnings.warn('Your stop_words may be inconsistent with '\n"
     ]
    },
    {
     "data": {
      "text/plain": [
       "matrix([[0., 0., 0., ..., 0., 0., 0.],\n",
       "        [0., 0., 0., ..., 0., 0., 0.],\n",
       "        [0., 0., 0., ..., 0., 0., 0.],\n",
       "        ...,\n",
       "        [0., 0., 0., ..., 0., 0., 0.],\n",
       "        [0., 0., 0., ..., 0., 0., 0.],\n",
       "        [0., 0., 0., ..., 0., 0., 0.]])"
      ]
     },
     "execution_count": 13,
     "metadata": {},
     "output_type": "execute_result"
    }
   ],
   "source": [
    "# Подгонка признаков под конвеер для корректной работы с моделью\n",
    "title_feat = Pipeline([\n",
    "    ('selector', TextSelector(key=\"признаки_раздела_wsss\")),\n",
    "    ('tfidf', TfidfVectorizer(stop_words = stop_words,tokenizer=stemming_tokenizer))\n",
    "    ])\n",
    "\n",
    "title_feat.fit_transform(df).todense()"
   ]
  },
  {
   "cell_type": "code",
   "execution_count": 14,
   "metadata": {},
   "outputs": [
    {
     "data": {
      "text/html": [
       "<div>\n",
       "<style scoped>\n",
       "    .dataframe tbody tr th:only-of-type {\n",
       "        vertical-align: middle;\n",
       "    }\n",
       "\n",
       "    .dataframe tbody tr th {\n",
       "        vertical-align: top;\n",
       "    }\n",
       "\n",
       "    .dataframe thead th {\n",
       "        text-align: right;\n",
       "    }\n",
       "</style>\n",
       "<table border=\"1\" class=\"dataframe\">\n",
       "  <thead>\n",
       "    <tr style=\"text-align: right;\">\n",
       "      <th></th>\n",
       "      <th>название_компетенции_wsss</th>\n",
       "      <th>описание_компетенции_wsss</th>\n",
       "      <th>название_раздела_wsss</th>\n",
       "      <th>значимость_раздела_wsss</th>\n",
       "      <th>признаки_раздела_wsss</th>\n",
       "      <th>cluster</th>\n",
       "      <th>nameed_clusters</th>\n",
       "    </tr>\n",
       "  </thead>\n",
       "  <tbody>\n",
       "    <tr>\n",
       "      <th>482</th>\n",
       "      <td>Промышленная автоматика</td>\n",
       "      <td>промышленная автоматика включает элементы элек...</td>\n",
       "      <td>поиск неисправностей</td>\n",
       "      <td>10.0</td>\n",
       "      <td>специалист должен знать понимать требования бе...</td>\n",
       "      <td>0</td>\n",
       "      <td>Информационные и коммуникационные технологии</td>\n",
       "    </tr>\n",
       "    <tr>\n",
       "      <th>1193</th>\n",
       "      <td>Графический дизайн</td>\n",
       "      <td>графическим дизайном понимается множество комп...</td>\n",
       "      <td>решение проблем</td>\n",
       "      <td>12.0</td>\n",
       "      <td>специалист должен знать понимать общие проблем...</td>\n",
       "      <td>0</td>\n",
       "      <td>Информационные и коммуникационные технологии</td>\n",
       "    </tr>\n",
       "    <tr>\n",
       "      <th>35</th>\n",
       "      <td>Управление фронтальным погрузчиком</td>\n",
       "      <td>фронтальный погрузчик назвать универсальной ма...</td>\n",
       "      <td>ремонт агрегатов систем фронтального погрузчика</td>\n",
       "      <td>28.0</td>\n",
       "      <td>участник должен знать понимать основные сведен...</td>\n",
       "      <td>0</td>\n",
       "      <td>Информационные и коммуникационные технологии</td>\n",
       "    </tr>\n",
       "    <tr>\n",
       "      <th>557</th>\n",
       "      <td>Электроника</td>\n",
       "      <td>индустрия электроники является разнообразной о...</td>\n",
       "      <td>сборка</td>\n",
       "      <td>20.0</td>\n",
       "      <td>специалист должен знать понимать соответствующ...</td>\n",
       "      <td>0</td>\n",
       "      <td>Информационные и коммуникационные технологии</td>\n",
       "    </tr>\n",
       "    <tr>\n",
       "      <th>322</th>\n",
       "      <td>Кузовной ремонт</td>\n",
       "      <td>мастер кузовного ремонта ремонтирует структурн...</td>\n",
       "      <td>замена деталей панелей требующих сварку</td>\n",
       "      <td>34.0</td>\n",
       "      <td>специалист должен знать понимать важность след...</td>\n",
       "      <td>0</td>\n",
       "      <td>Информационные и коммуникационные технологии</td>\n",
       "    </tr>\n",
       "  </tbody>\n",
       "</table>\n",
       "</div>"
      ],
      "text/plain": [
       "               название_компетенции_wsss  \\\n",
       "482              Промышленная автоматика   \n",
       "1193                  Графический дизайн   \n",
       "35    Управление фронтальным погрузчиком   \n",
       "557                         Электроника    \n",
       "322                      Кузовной ремонт   \n",
       "\n",
       "                              описание_компетенции_wsss  \\\n",
       "482   промышленная автоматика включает элементы элек...   \n",
       "1193  графическим дизайном понимается множество комп...   \n",
       "35    фронтальный погрузчик назвать универсальной ма...   \n",
       "557   индустрия электроники является разнообразной о...   \n",
       "322   мастер кузовного ремонта ремонтирует структурн...   \n",
       "\n",
       "                                название_раздела_wsss  \\\n",
       "482                              поиск неисправностей   \n",
       "1193                                  решение проблем   \n",
       "35    ремонт агрегатов систем фронтального погрузчика   \n",
       "557                                            сборка   \n",
       "322           замена деталей панелей требующих сварку   \n",
       "\n",
       "      значимость_раздела_wsss  \\\n",
       "482                      10.0   \n",
       "1193                     12.0   \n",
       "35                       28.0   \n",
       "557                      20.0   \n",
       "322                      34.0   \n",
       "\n",
       "                                  признаки_раздела_wsss  cluster  \\\n",
       "482   специалист должен знать понимать требования бе...        0   \n",
       "1193  специалист должен знать понимать общие проблем...        0   \n",
       "35    участник должен знать понимать основные сведен...        0   \n",
       "557   специалист должен знать понимать соответствующ...        0   \n",
       "322   специалист должен знать понимать важность след...        0   \n",
       "\n",
       "                                   nameed_clusters  \n",
       "482   Информационные и коммуникационные технологии  \n",
       "1193  Информационные и коммуникационные технологии  \n",
       "35    Информационные и коммуникационные технологии  \n",
       "557   Информационные и коммуникационные технологии  \n",
       "322   Информационные и коммуникационные технологии  "
      ]
     },
     "execution_count": 14,
     "metadata": {},
     "output_type": "execute_result"
    }
   ],
   "source": [
    "df.head()"
   ]
  },
  {
   "cell_type": "code",
   "execution_count": null,
   "metadata": {},
   "outputs": [],
   "source": []
  },
  {
   "cell_type": "code",
   "execution_count": 15,
   "metadata": {},
   "outputs": [],
   "source": [
    "from sklearn.pipeline import FeatureUnion\n",
    "# Формирование конвейера \n",
    "feat = FeatureUnion([(\"title\", title),\n",
    "                    (\"ves_title\", ves_title),\n",
    "                    (\"title_feat\", title_feat)])\n",
    "\n",
    "# Переменная, которая пойдёт на разделение набора и последующее обучкение и тестирование\n",
    "X=feat.fit_transform(df).todense()"
   ]
  },
  {
   "cell_type": "code",
   "execution_count": null,
   "metadata": {},
   "outputs": [],
   "source": []
  },
  {
   "cell_type": "code",
   "execution_count": null,
   "metadata": {},
   "outputs": [],
   "source": []
  },
  {
   "cell_type": "code",
   "execution_count": 16,
   "metadata": {},
   "outputs": [],
   "source": [
    "from sklearn.model_selection import train_test_split #Формирование конвейера\n",
    "# Целевая переменная, которая содержит названия кластеров\n",
    "y=df[\"nameed_clusters\"]\n",
    "X_train, X_test, y_train, y_test = train_test_split(X, y,test_size=0.1)"
   ]
  },
  {
   "cell_type": "code",
   "execution_count": null,
   "metadata": {},
   "outputs": [],
   "source": []
  },
  {
   "cell_type": "code",
   "execution_count": null,
   "metadata": {},
   "outputs": [],
   "source": []
  },
  {
   "cell_type": "code",
   "execution_count": 17,
   "metadata": {},
   "outputs": [],
   "source": [
    "from sklearn.svm import SVC\n",
    "from sklearn.naive_bayes import GaussianNB\n",
    "from sklearn.linear_model import LogisticRegression"
   ]
  },
  {
   "cell_type": "code",
   "execution_count": null,
   "metadata": {},
   "outputs": [],
   "source": []
  },
  {
   "cell_type": "code",
   "execution_count": 18,
   "metadata": {},
   "outputs": [],
   "source": [
    "from sklearn.metrics import classification_report"
   ]
  },
  {
   "cell_type": "code",
   "execution_count": null,
   "metadata": {},
   "outputs": [],
   "source": []
  },
  {
   "cell_type": "code",
   "execution_count": null,
   "metadata": {},
   "outputs": [],
   "source": []
  },
  {
   "cell_type": "code",
   "execution_count": 20,
   "metadata": {},
   "outputs": [
    {
     "name": "stdout",
     "output_type": "stream",
     "text": [
      "                                              precision    recall  f1-score   support\n",
      "\n",
      "Информационные и коммуникационные технологии       0.96      1.00      0.98       129\n",
      "        Производство и инженерные технологии       1.00      1.00      1.00         2\n",
      "     Строительство и строительные технологии       1.00      0.81      0.90        16\n",
      "                                 Сфера услуг       1.00      0.87      0.93        15\n",
      "\n",
      "                                    accuracy                           0.97       162\n",
      "                                   macro avg       0.99      0.92      0.95       162\n",
      "                                weighted avg       0.97      0.97      0.97       162\n",
      "\n"
     ]
    }
   ],
   "source": [
    "# Метод SVC(Метод опорных векторов)   #Обучение моделей и их сравнение\n",
    "pipeline_svc=SVC()\n",
    "\n",
    "# Обучение классификатора на обучающих данных\n",
    "pipeline_svc.fit(X_train,y_train)\n",
    "# Предсказание целевой переменной на тестирующих данных\n",
    "preds_scv=pipeline_svc.predict(X_test)\n",
    "# Вывод со всеми описанными метриками ранее\n",
    "print(classification_report(y_test, preds_scv))"
   ]
  },
  {
   "cell_type": "code",
   "execution_count": 21,
   "metadata": {},
   "outputs": [
    {
     "name": "stdout",
     "output_type": "stream",
     "text": [
      "                                              precision    recall  f1-score   support\n",
      "\n",
      "Информационные и коммуникационные технологии       1.00      0.96      0.98       129\n",
      "        Производство и инженерные технологии       1.00      1.00      1.00         2\n",
      "     Строительство и строительные технологии       0.80      1.00      0.89        16\n",
      "                                 Сфера услуг       0.94      1.00      0.97        15\n",
      "\n",
      "                                    accuracy                           0.97       162\n",
      "                                   macro avg       0.93      0.99      0.96       162\n",
      "                                weighted avg       0.97      0.97      0.97       162\n",
      "\n"
     ]
    }
   ],
   "source": [
    "# Метод GaussianNB\n",
    "pipeline_gnb=GaussianNB()    #Метод GaussianNB показал точность: 0.79\n",
    "\n",
    "# Обучение классификатора на обучающих данных\n",
    "pipeline_gnb.fit(X_train,y_train)\n",
    "# Предсказание целевой переменной на тестирующих данных\n",
    "preds_gnb=pipeline_gnb.predict(X_test)\n",
    "# Вывод со всеми описанными метриками ранее\n",
    "print(classification_report(y_test, preds_gnb))"
   ]
  },
  {
   "cell_type": "code",
   "execution_count": 23,
   "metadata": {},
   "outputs": [
    {
     "name": "stdout",
     "output_type": "stream",
     "text": [
      "                                              precision    recall  f1-score   support\n",
      "\n",
      "Информационные и коммуникационные технологии       0.96      1.00      0.98       129\n",
      "        Производство и инженерные технологии       1.00      1.00      1.00         2\n",
      "     Строительство и строительные технологии       0.92      0.75      0.83        16\n",
      "                                 Сфера услуг       1.00      0.80      0.89        15\n",
      "\n",
      "                                    accuracy                           0.96       162\n",
      "                                   macro avg       0.97      0.89      0.92       162\n",
      "                                weighted avg       0.96      0.96      0.95       162\n",
      "\n"
     ]
    }
   ],
   "source": [
    "# Метод LogisticRegression\n",
    "pipeline_lr=LogisticRegression() #Метод LogisticRegression показал точность: 0.83\n",
    "\n",
    "# Обучение классификатора на обучающих данных\n",
    "pipeline_lr.fit(X_train,y_train)\n",
    "# Предсказание целевой переменной на тестирующих данных\n",
    "preds_lr=pipeline_lr.predict(X_test)\n",
    "# Вывод со всеми описанными метриками ранее\n",
    "print(classification_report(y_test, preds_lr))"
   ]
  },
  {
   "cell_type": "code",
   "execution_count": null,
   "metadata": {},
   "outputs": [],
   "source": []
  }
 ],
 "metadata": {
  "kernelspec": {
   "display_name": "Python 3",
   "language": "python",
   "name": "python3"
  },
  "language_info": {
   "codemirror_mode": {
    "name": "ipython",
    "version": 3
   },
   "file_extension": ".py",
   "mimetype": "text/x-python",
   "name": "python",
   "nbconvert_exporter": "python",
   "pygments_lexer": "ipython3",
   "version": "3.8.5"
  }
 },
 "nbformat": 4,
 "nbformat_minor": 4
}
